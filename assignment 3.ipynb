{
 "cells": [
  {
   "cell_type": "code",
   "execution_count": null,
   "metadata": {},
   "outputs": [],
   "source": [
    "1. Why are functions advantageous to have in your programs?\n",
    "Sol because it inceases code reuseability. We dont have to write each code again and again .\n",
    "2. When does the code in a function run: when it's specified or when it's called?\n",
    "Sol. when it's called.\n",
    "3. What statement creates a function?\n",
    "Sol def function_name()\n",
    "4. What is the difference between a function and a function call?\n",
    "Sol.A function is a block of code that does a particular operation and returns a result. \n",
    "It usually accepts inputs as parameters and returns a result. The parameters are not mandatory.\n",
    "\n",
    "E.g:\n",
    "Function add(a,b)\n",
    "return a+ b\n",
    "\n",
    "A function call is the code used to pass control to a function.\n",
    "\n",
    "E.g.:\n",
    "\n",
    "b = add(5,6) \n",
    "\n",
    "5. How many   are there in a Python program? How many local scopes?\n",
    "Sol.Only one global scope can be defined per program\n",
    "6. What happens to variables in a local scope when the function call returns?\n",
    "Sol.\n",
    "7. What is the concept of a return value? Is it possible to have a return value in an expression?\n",
    "Sol. Return value is used to give same datatype as in which variale is passed.\n",
    "    Yes, it possible to have a return value in an expression.\n",
    "8. If a function does not have a return statement, what is the return value of a call to that function?\n",
    "Sol. it will return nonetype\n",
    "9. How do you make a function variable refer to the global variable?\n",
    "Sol.we have to declare it outside the function\n",
    "10. What is the data type of None?\n",
    "Sol.NoneType\n",
    "11. What does the sentence import areallyourpetsnamederic do?\n",
    "Sol. it will try to import  script named areallyourpetsnamederic.\n",
    "\n",
    "12. If you had a bacon() feature in a spam module, what would you call it after importing spam?\n",
    "Sol.spam.bacon()\n",
    "13. What can you do to save a programme from crashing if it encounters an error?\n",
    "Sol.I would interupt the kernel and stop it\n",
    "14. What is the purpose of the try clause? What is the purpose of the except clause?\n",
    "Sol. try and except clause is usedfor exception handling in python\n"
   ]
  },
  {
   "cell_type": "code",
   "execution_count": 1,
   "metadata": {},
   "outputs": [
    {
     "name": "stdout",
     "output_type": "stream",
     "text": [
      " Volume in drive C is Windows\n",
      " Volume Serial Number is 9003-B1A4\n",
      "\n",
      " Directory of C:\\Users\\Pushpinder\n",
      "\n",
      "29-01-2022  07:38    <DIR>          .\n",
      "29-01-2022  07:38    <DIR>          ..\n",
      "21-01-2022  10:20    <DIR>          .conda\n",
      "19-01-2022  23:09                43 .condarc\n",
      "10-05-2021  12:32               218 .gitconfig\n",
      "29-01-2022  07:37    <DIR>          .ipynb_checkpoints\n",
      "03-10-2020  02:28    <DIR>          .ipython\n",
      "12-02-2021  22:05    <DIR>          .jupyter\n",
      "15-02-2021  00:18    <DIR>          .matplotlib\n",
      "28-04-2021  11:59            36,382 .sambox.cache\n",
      "14-03-2021  14:05    <DIR>          .spyder-py3\n",
      "02-10-2020  23:23    <DIR>          3D Objects\n",
      "03-10-2020  02:23    <DIR>          anaconda3\n",
      "05-03-2021  11:21    <DIR>          ansel\n",
      "29-01-2022  07:38             3,005 assignment 3.ipynb\n",
      "02-10-2020  23:23    <DIR>          Contacts\n",
      "04-06-2021  13:42    <DIR>          Documents\n",
      "29-01-2022  07:35    <DIR>          Downloads\n",
      "02-10-2020  23:23    <DIR>          Favorites\n",
      "26-11-2021  06:26             6,710 Functions.ipynb\n",
      "27-01-2022  21:13             4,465 google.txt\n",
      "02-10-2020  23:23    <DIR>          Links\n",
      "02-10-2020  23:23    <DIR>          Music\n",
      "15-07-2021  22:00    <DIR>          OneDrive\n",
      "23-05-2021  22:28    <DIR>          python assignment\n",
      "19-01-2022  23:46             4,985 python assignment 2.ipynb\n",
      "02-10-2020  23:23    <DIR>          Saved Games\n",
      "02-10-2020  23:25    <DIR>          Searches\n",
      "25-10-2021  07:16            43,413 String methods.ipynb\n",
      "21-01-2022  22:12             1,856 test1.txt\n",
      "21-01-2022  06:44                30 test2.txt\n",
      "29-01-2022  06:14                 0 test4.txt\n",
      "23-01-2022  22:02               302 test6.txt\n",
      "29-01-2022  06:08                22 test8.txt\n",
      "01-12-2021  19:21    <DIR>          Tracing\n",
      "19-01-2022  23:36             9,235 Untitled.ipynb\n",
      "19-01-2022  23:46             4,985 Untitled1.ipynb\n",
      "29-01-2022  07:27            88,809 Untitled3.ipynb\n",
      "14-10-2020  05:33    <DIR>          Videos\n",
      "              16 File(s)        204,460 bytes\n",
      "              23 Dir(s)  149,326,811,136 bytes free\n"
     ]
    }
   ],
   "source": [
    "ls"
   ]
  },
  {
   "cell_type": "code",
   "execution_count": null,
   "metadata": {},
   "outputs": [],
   "source": []
  }
 ],
 "metadata": {
  "kernelspec": {
   "display_name": "Python 3",
   "language": "python",
   "name": "python3"
  },
  "language_info": {
   "codemirror_mode": {
    "name": "ipython",
    "version": 3
   },
   "file_extension": ".py",
   "mimetype": "text/x-python",
   "name": "python",
   "nbconvert_exporter": "python",
   "pygments_lexer": "ipython3",
   "version": "3.8.3"
  }
 },
 "nbformat": 4,
 "nbformat_minor": 4
}
