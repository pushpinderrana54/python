{
 "cells": [
  {
   "cell_type": "code",
   "execution_count": null,
   "metadata": {},
   "outputs": [],
   "source": [
    "1. What does an empty dictionary's code look like?\n",
    "Sol.a={}\n",
    "2. What is the value of a dictionary value with the key 'foo' and the value 42?\n",
    "Sol. 42\n",
    "3. What is the most significant distinction between a dictionary and a list?\n",
    "sol. Distinction between dictionary and list  is that dicyionary contains data in the form of key and value pairs.\n",
    "4. What happens if you try to access spam['foo'] if spam is {'bar': 100}?\n",
    "Sol. it will show errror as there is no key named as foo.\n",
    "5. If a dictionary is stored in spam, what is the difference between the expressions 'cat' in spam and 'cat' in spam.keys()?\n",
    "Sol.'cat' in spam  shows weather cat is present in spam or not whereas 'cat' in spam.keys() shows weather it is present in keys or not .\n",
    "6. If a dictionary is stored in spam, what is the difference between the expressions 'cat' in spam and 'cat' in spam.values()?\n",
    "Sol.'cat' in spam  shows weather cat is present in spam dict. or not whereas 'cat' in spam.keys() shows weather it is present in values or not .\n",
    "\n",
    "7. What is a shortcut for the following code?\n",
    " if 'color' not in spam:\n",
    "spam['color'] = 'black'\n",
    "Sol. can be done with dict comprehension but not able to solve.\n",
    "8. How do you \"pretty print\" dictionary values using which module and function?\n",
    "Sol.pprint module and pprint function\n"
   ]
  },
  {
   "cell_type": "code",
   "execution_count": 41,
   "metadata": {},
   "outputs": [],
   "source": [
    "spam ={\"a\":45}"
   ]
  },
  {
   "cell_type": "code",
   "execution_count": null,
   "metadata": {},
   "outputs": [],
   "source": []
  },
  {
   "cell_type": "code",
   "execution_count": null,
   "metadata": {},
   "outputs": [],
   "source": []
  }
 ],
 "metadata": {
  "kernelspec": {
   "display_name": "Python 3",
   "language": "python",
   "name": "python3"
  },
  "language_info": {
   "codemirror_mode": {
    "name": "ipython",
    "version": 3
   },
   "file_extension": ".py",
   "mimetype": "text/x-python",
   "name": "python",
   "nbconvert_exporter": "python",
   "pygments_lexer": "ipython3",
   "version": "3.8.3"
  }
 },
 "nbformat": 4,
 "nbformat_minor": 4
}
