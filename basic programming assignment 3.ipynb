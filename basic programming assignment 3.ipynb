{
 "cells": [
  {
   "cell_type": "code",
   "execution_count": 10,
   "metadata": {},
   "outputs": [
    {
     "name": "stdout",
     "output_type": "stream",
     "text": [
      "enter a number-1\n",
      "number is negative \n"
     ]
    }
   ],
   "source": [
    "##Write a Python Program to Check if a Number is Positive, Negative or Zero?\n",
    "a=int(input(\"enter a number\"))\n",
    "if a>0:\n",
    "    print(\"number is positive\")\n",
    "elif a==0:\n",
    "    print(\"number is Zero \")\n",
    "elif a<0:\n",
    "    print(\"number is negative \")\n",
    "           "
   ]
  },
  {
   "cell_type": "code",
   "execution_count": 20,
   "metadata": {},
   "outputs": [
    {
     "name": "stdout",
     "output_type": "stream",
     "text": [
      "enter a number45\n",
      "number is odd\n"
     ]
    }
   ],
   "source": [
    "## Write a Python Program to Check if a Number is Odd or Even?\n",
    "a=int(input(\"enter a number\"))\n",
    "if a%2== 0:\n",
    "    print(\"number is even\")\n",
    "elif a%2==1:\n",
    "    print(\"number is odd\")\n"
   ]
  },
  {
   "cell_type": "code",
   "execution_count": 22,
   "metadata": {},
   "outputs": [
    {
     "name": "stdout",
     "output_type": "stream",
     "text": [
      "enter the year2021\n",
      "it is not a leap year\n"
     ]
    }
   ],
   "source": [
    "#3.\tWrite a Python Program to Check Leap Year?\n",
    "a=int(input(\"enter the year\"))\n",
    "if a%4==0:\n",
    "    print(\"it is a leap year\")\n",
    "else:\n",
    "    print(\"it is not a leap year\")\n"
   ]
  },
  {
   "cell_type": "code",
   "execution_count": 81,
   "metadata": {},
   "outputs": [
    {
     "name": "stdout",
     "output_type": "stream",
     "text": [
      "enter a number15\n",
      "no is not prime\n"
     ]
    }
   ],
   "source": [
    "##4.\tWrite a Python Program to Check Prime Number?\n",
    "a=int(input(\"enter a number\"))\n",
    "for i in range(2,10,1):\n",
    "    if a%i==0:\n",
    "        print(\"no is not prime\")\n",
    "        break\n",
    "else:\n",
    "    print(\"no is  prime\")\n",
    "     \n",
    "                \n",
    "    \n",
    "\n"
   ]
  },
  {
   "cell_type": "code",
   "execution_count": 42,
   "metadata": {},
   "outputs": [],
   "source": [
    "##5.\tWrite a Python Program to Print all Prime Numbers in an Interval of 1-10000?"
   ]
  },
  {
   "cell_type": "code",
   "execution_count": null,
   "metadata": {},
   "outputs": [],
   "source": [
    "lower = int(input(\"Enter lower range: \"))  \n",
    "upper = int(input(\"Enter upper range: \"))  \n",
    "  \n",
    "for num in range(lower,upper + 1):\n",
    "    if num > 1:\n",
    "        for i in range(2,num):\n",
    "            if (num % i) == 0:  \n",
    "                break  \n",
    "        else:  \n",
    "            print(num) "
   ]
  }
 ],
 "metadata": {
  "kernelspec": {
   "display_name": "Python 3",
   "language": "python",
   "name": "python3"
  },
  "language_info": {
   "codemirror_mode": {
    "name": "ipython",
    "version": 3
   },
   "file_extension": ".py",
   "mimetype": "text/x-python",
   "name": "python",
   "nbconvert_exporter": "python",
   "pygments_lexer": "ipython3",
   "version": "3.8.3"
  }
 },
 "nbformat": 4,
 "nbformat_minor": 4
}
