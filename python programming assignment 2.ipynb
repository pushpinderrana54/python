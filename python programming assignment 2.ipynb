{
 "cells": [
  {
   "cell_type": "code",
   "execution_count": 3,
   "metadata": {},
   "outputs": [
    {
     "name": "stdout",
     "output_type": "stream",
     "text": [
      "Object `miles` not found.\n",
      "enter the value in miles15\n",
      "value in kms 24.14016\n"
     ]
    }
   ],
   "source": [
    "1.\tWrite a Python program to convert kilometers to miles?\n",
    "a=float(input(\"enter the value in miles\"))\n",
    "b=a*1.609344 \n",
    "print(\"value in kms\",b)"
   ]
  },
  {
   "cell_type": "code",
   "execution_count": 6,
   "metadata": {},
   "outputs": [
    {
     "name": "stdout",
     "output_type": "stream",
     "text": [
      "Object `Fahrenheit` not found.\n",
      "enter the value in celcius37.4\n",
      "value in fahrenheight 99.32\n"
     ]
    }
   ],
   "source": [
    "2.\tWrite a Python program to convert Celsius to Fahrenheit?\n",
    "a=float(input(\"enter the value in celcius\"))\n",
    "b=(a*9/5) + 32 \n",
    "print(\"value in fahrenheight\",b)"
   ]
  },
  {
   "cell_type": "code",
   "execution_count": 7,
   "metadata": {},
   "outputs": [
    {
     "name": "stdout",
     "output_type": "stream",
     "text": [
      "Object `calendar` not found.\n",
      "    January 2021\n",
      "Mo Tu We Th Fr Sa Su\n",
      "             1  2  3\n",
      " 4  5  6  7  8  9 10\n",
      "11 12 13 14 15 16 17\n",
      "18 19 20 21 22 23 24\n",
      "25 26 27 28 29 30 31\n",
      "\n"
     ]
    }
   ],
   "source": [
    "3.Write a Python program to display calendar?\n",
    "\n",
    "import calendar\n",
    "yy = 2021  \n",
    "mm = 1   \n",
    "print(calendar.month(yy, mm))\n",
    "\n"
   ]
  },
  {
   "cell_type": "code",
   "execution_count": 8,
   "metadata": {},
   "outputs": [
    {
     "name": "stdout",
     "output_type": "stream",
     "text": [
      "enter the value of first variable1\n",
      "enter the value of second variable-6\n",
      "enter the value of third variable9\n",
      "3.0\n",
      "3.0\n"
     ]
    }
   ],
   "source": [
    "## 4.\tWrite a Python program to solve quadratic equation?\n",
    "\n",
    "a=int(input(\"enter the value of first variable\"))\n",
    "b=int(input(\"enter the value of second variable\"))\n",
    "c=int(input(\"enter the value of third variable\"))\n",
    "sol1 =(-b + (b ** 2 - 4 * a * c) ** 0.5) / 2 * a\n",
    "sol2=(-b -(b ** 2 - 4 * a * c) ** 0.5) / 2 * a\n",
    "print(sol1)\n",
    "print(sol2)\n",
    "\n"
   ]
  },
  {
   "cell_type": "code",
   "execution_count": 15,
   "metadata": {},
   "outputs": [
    {
     "name": "stdout",
     "output_type": "stream",
     "text": [
      "enter the value of first variable 11\n",
      "enter the value of first variable 22\n",
      "value of variable 1 after swapping  2\n",
      "value of variable 2 after swapping  1\n"
     ]
    }
   ],
   "source": [
    "## 5.\tWrite a Python program to swap two variables without temp variable?\n",
    "a=int(input(\"enter the value of first variable 1\", ))\n",
    "b=int(input(\"enter the value of first variable 2\",))\n",
    "a=a+b\n",
    "b=a-b\n",
    "a=a-b\n",
    "print(\"value of variable 1 after swapping \",a)\n",
    "print(\"value of variable 2 after swapping \",b)"
   ]
  },
  {
   "cell_type": "code",
   "execution_count": null,
   "metadata": {},
   "outputs": [],
   "source": []
  }
 ],
 "metadata": {
  "kernelspec": {
   "display_name": "Python 3",
   "language": "python",
   "name": "python3"
  },
  "language_info": {
   "codemirror_mode": {
    "name": "ipython",
    "version": 3
   },
   "file_extension": ".py",
   "mimetype": "text/x-python",
   "name": "python",
   "nbconvert_exporter": "python",
   "pygments_lexer": "ipython3",
   "version": "3.8.3"
  }
 },
 "nbformat": 4,
 "nbformat_minor": 4
}
